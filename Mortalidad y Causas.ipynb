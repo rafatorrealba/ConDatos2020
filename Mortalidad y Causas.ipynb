{
 "cells": [
  {
   "cell_type": "markdown",
   "metadata": {},
   "source": [
    "# Mortalidad y sus causas en Chile 2010 - ConDatos2020\n",
    "By Ubiot - 2020"
   ]
  },
  {
   "cell_type": "code",
   "execution_count": 126,
   "metadata": {},
   "outputs": [],
   "source": [
    "#Importar las librerías necesarias\n",
    "import csv\n",
    "import numpy as np\n",
    "from datascience import *\n",
    "\n",
    "import matplotlib\n",
    "%matplotlib inline\n",
    "import matplotlib.pyplot as plots\n",
    "plots.style.use('fivethirtyeight')\n",
    "\n",
    "#Lectura del archivo CSV\n",
    "mortalidad = Table.read_table(\"~/Projects/ConDatos2020/data/mortalidad_cl.csv\", encoding='utf-8', delimiter=\",\")"
   ]
  },
  {
   "cell_type": "code",
   "execution_count": 127,
   "metadata": {},
   "outputs": [],
   "source": [
    "#Limpieza y orden de la data, solo se toma el año 2010\n",
    "mortalidad_2010 = mortalidad.relabel(make_array(\"CIE 10\", \"Year\", \"Casualities Count SUM\", \"Casualities rate per 100 inhabitants\"),\n",
    "    make_array(\"Causa\", \"Año\", \"Casos\", \"Casos cada 100 habitantes\")\n",
    ").drop(5).drop(2).drop(0).where(\"Año\", 2010)"
   ]
  },
  {
   "cell_type": "markdown",
   "metadata": {},
   "source": [
    "# 1. Total de muertes registradas en Chiles\n",
    "Es decir, la suma todas las causas reportadas"
   ]
  },
  {
   "cell_type": "code",
   "execution_count": 128,
   "metadata": {},
   "outputs": [
    {
     "data": {
      "text/plain": [
       "86014"
      ]
     },
     "execution_count": 128,
     "metadata": {},
     "output_type": "execute_result"
    }
   ],
   "source": [
    "muertes_total = int(sum(mortalidad_2010.select(\"Casos\")[0]))\n",
    "muertes_total"
   ]
  },
  {
   "cell_type": "markdown",
   "metadata": {},
   "source": [
    "# 2. Indicador de porcentaje por cada causa\n",
    "Por ejemplo: ¿Que porcentaje representan las muertes causadas por tumores?"
   ]
  },
  {
   "cell_type": "code",
   "execution_count": 129,
   "metadata": {},
   "outputs": [
    {
     "data": {
      "text/html": [
       "<table border=\"1\" class=\"dataframe\">\n",
       "    <thead>\n",
       "        <tr>\n",
       "            <th>Causa</th> <th>Año</th> <th>Casos</th> <th>Porcentaje por causa de muerte</th>\n",
       "        </tr>\n",
       "    </thead>\n",
       "    <tbody>\n",
       "        <tr>\n",
       "            <td>Infecciones por VIH y SIDA                          </td> <td>2010</td> <td>435  </td> <td>0.51%                         </td>\n",
       "        </tr>\n",
       "        <tr>\n",
       "            <td>Tumores (neoplasias)                                </td> <td>2010</td> <td>24088</td> <td>28.00%                        </td>\n",
       "        </tr>\n",
       "        <tr>\n",
       "            <td>Enfermedades endocrinas, nutricionales y metabolicas</td> <td>2010</td> <td>4821 </td> <td>5.60%                         </td>\n",
       "        </tr>\n",
       "        <tr>\n",
       "            <td>Enfermedades del sistema circulatorio               </td> <td>2010</td> <td>27158</td> <td>31.57%                        </td>\n",
       "        </tr>\n",
       "        <tr>\n",
       "            <td>Enfermedades del sistema respiratorio               </td> <td>2010</td> <td>9993 </td> <td>11.62%                        </td>\n",
       "        </tr>\n",
       "        <tr>\n",
       "            <td>Enfermedades del sistema digestivo                  </td> <td>2010</td> <td>7051 </td> <td>8.20%                         </td>\n",
       "        </tr>\n",
       "        <tr>\n",
       "            <td>Accidentes de tránsito                              </td> <td>2010</td> <td>2097 </td> <td>2.44%                         </td>\n",
       "        </tr>\n",
       "        <tr>\n",
       "            <td>Causa Externa de mortalidad                         </td> <td>2010</td> <td>8385 </td> <td>9.75%                         </td>\n",
       "        </tr>\n",
       "        <tr>\n",
       "            <td>Lesiones autoinfligidas intencionalmente            </td> <td>2010</td> <td>1986 </td> <td>2.31%                         </td>\n",
       "        </tr>\n",
       "    </tbody>\n",
       "</table>"
      ],
      "text/plain": [
       "Causa                                                | Año  | Casos | Porcentaje por causa de muerte\n",
       "Infecciones por VIH y SIDA                           | 2010 | 435   | 0.51%\n",
       "Tumores (neoplasias)                                 | 2010 | 24088 | 28.00%\n",
       "Enfermedades endocrinas, nutricionales y metabolicas | 2010 | 4821  | 5.60%\n",
       "Enfermedades del sistema circulatorio                | 2010 | 27158 | 31.57%\n",
       "Enfermedades del sistema respiratorio                | 2010 | 9993  | 11.62%\n",
       "Enfermedades del sistema digestivo                   | 2010 | 7051  | 8.20%\n",
       "Accidentes de tránsito                               | 2010 | 2097  | 2.44%\n",
       "Causa Externa de mortalidad                          | 2010 | 8385  | 9.75%\n",
       "Lesiones autoinfligidas intencionalmente             | 2010 | 1986  | 2.31%"
      ]
     },
     "execution_count": 129,
     "metadata": {},
     "output_type": "execute_result"
    }
   ],
   "source": [
    "mortalidad_2010 = mortalidad_2010.with_columns(\n",
    "    \"Porcentaje por causa de muerte\", (mortalidad_2010.select(\"Casos\")[0] / muertes_total) \n",
    ").set_format(3, PercentFormatter)\n",
    "mortalidad_2010"
   ]
  },
  {
   "cell_type": "markdown",
   "metadata": {},
   "source": [
    "# 3. Total de habitantes en Chile para el año 2010"
   ]
  },
  {
   "cell_type": "code",
   "execution_count": 130,
   "metadata": {},
   "outputs": [
    {
     "data": {
      "text/html": [
       "<table border=\"1\" class=\"dataframe\">\n",
       "    <thead>\n",
       "        <tr>\n",
       "            <th>Age Range</th> <th>Sex</th> <th>Year</th> <th>Population</th>\n",
       "        </tr>\n",
       "    </thead>\n",
       "    <tbody>\n",
       "        <tr>\n",
       "            <td>0 a 4    </td> <td>Femenino </td> <td>2010</td> <td>612515    </td>\n",
       "        </tr>\n",
       "        <tr>\n",
       "            <td>0 a 4    </td> <td>Masculino</td> <td>2010</td> <td>635810    </td>\n",
       "        </tr>\n",
       "        <tr>\n",
       "            <td>5 a 9    </td> <td>Femenino </td> <td>2010</td> <td>607444    </td>\n",
       "        </tr>\n",
       "        <tr>\n",
       "            <td>5 a 9    </td> <td>Masculino</td> <td>2010</td> <td>630053    </td>\n",
       "        </tr>\n",
       "        <tr>\n",
       "            <td>10 a 14  </td> <td>Femenino </td> <td>2010</td> <td>652720    </td>\n",
       "        </tr>\n",
       "        <tr>\n",
       "            <td>10 a 14  </td> <td>Masculino</td> <td>2010</td> <td>676215    </td>\n",
       "        </tr>\n",
       "        <tr>\n",
       "            <td>15 a 19  </td> <td>Femenino </td> <td>2010</td> <td>731691    </td>\n",
       "        </tr>\n",
       "        <tr>\n",
       "            <td>15 a 19  </td> <td>Masculino</td> <td>2010</td> <td>756626    </td>\n",
       "        </tr>\n",
       "        <tr>\n",
       "            <td>20 a 24  </td> <td>Femenino </td> <td>2010</td> <td>720615    </td>\n",
       "        </tr>\n",
       "        <tr>\n",
       "            <td>20 a 24  </td> <td>Masculino</td> <td>2010</td> <td>741731    </td>\n",
       "        </tr>\n",
       "    </tbody>\n",
       "</table>\n",
       "<p>... (24 rows omitted)</p>"
      ],
      "text/plain": [
       "Age Range | Sex       | Year | Population\n",
       "0 a 4     | Femenino  | 2010 | 612515\n",
       "0 a 4     | Masculino | 2010 | 635810\n",
       "5 a 9     | Femenino  | 2010 | 607444\n",
       "5 a 9     | Masculino | 2010 | 630053\n",
       "10 a 14   | Femenino  | 2010 | 652720\n",
       "10 a 14   | Masculino | 2010 | 676215\n",
       "15 a 19   | Femenino  | 2010 | 731691\n",
       "15 a 19   | Masculino | 2010 | 756626\n",
       "20 a 24   | Femenino  | 2010 | 720615\n",
       "20 a 24   | Masculino | 2010 | 741731\n",
       "... (24 rows omitted)"
      ]
     },
     "execution_count": 130,
     "metadata": {},
     "output_type": "execute_result"
    }
   ],
   "source": [
    "#Lectura del archivo CSV\n",
    "poblacion_cl = Table.read_table(\"~/Projects/ConDatos2020/data/proyeccion_poblacional.csv\", encoding='utf-8', delimiter=\",\")\n",
    "poblacion_cl_2010 = poblacion_cl.where(\"Year\", 2010).drop(4).drop(2).drop(0)\n",
    "poblacion_cl_2010"
   ]
  },
  {
   "cell_type": "code",
   "execution_count": 131,
   "metadata": {},
   "outputs": [
    {
     "data": {
      "text/plain": [
       "17094275"
      ]
     },
     "execution_count": 131,
     "metadata": {},
     "output_type": "execute_result"
    }
   ],
   "source": [
    "total_2010 = int(sum(poblacion_cl_2010.select(\"Population\")[0]))\n",
    "total_2010"
   ]
  },
  {
   "cell_type": "markdown",
   "metadata": {},
   "source": [
    "# 4. Porcentaje de muertes por enfermedades totales reportadas en Chile\n",
    "Casos con respecto a la poblacion total de Chile"
   ]
  },
  {
   "cell_type": "code",
   "execution_count": 132,
   "metadata": {},
   "outputs": [
    {
     "data": {
      "text/html": [
       "<table border=\"1\" class=\"dataframe\">\n",
       "    <thead>\n",
       "        <tr>\n",
       "            <th>Causa</th> <th>Año</th> <th>Casos</th> <th>Porcentaje por causa de muerte</th> <th>Porcentaje total</th>\n",
       "        </tr>\n",
       "    </thead>\n",
       "    <tbody>\n",
       "        <tr>\n",
       "            <td>Enfermedades del sistema circulatorio               </td> <td>2010</td> <td>27158</td> <td>31.57%                        </td> <td>0.16%           </td>\n",
       "        </tr>\n",
       "        <tr>\n",
       "            <td>Tumores (neoplasias)                                </td> <td>2010</td> <td>24088</td> <td>28.00%                        </td> <td>0.14%           </td>\n",
       "        </tr>\n",
       "        <tr>\n",
       "            <td>Enfermedades del sistema respiratorio               </td> <td>2010</td> <td>9993 </td> <td>11.62%                        </td> <td>0.06%           </td>\n",
       "        </tr>\n",
       "        <tr>\n",
       "            <td>Causa Externa de mortalidad                         </td> <td>2010</td> <td>8385 </td> <td>9.75%                         </td> <td>0.05%           </td>\n",
       "        </tr>\n",
       "        <tr>\n",
       "            <td>Enfermedades del sistema digestivo                  </td> <td>2010</td> <td>7051 </td> <td>8.20%                         </td> <td>0.04%           </td>\n",
       "        </tr>\n",
       "        <tr>\n",
       "            <td>Enfermedades endocrinas, nutricionales y metabolicas</td> <td>2010</td> <td>4821 </td> <td>5.60%                         </td> <td>0.03%           </td>\n",
       "        </tr>\n",
       "        <tr>\n",
       "            <td>Accidentes de tránsito                              </td> <td>2010</td> <td>2097 </td> <td>2.44%                         </td> <td>0.01%           </td>\n",
       "        </tr>\n",
       "        <tr>\n",
       "            <td>Lesiones autoinfligidas intencionalmente            </td> <td>2010</td> <td>1986 </td> <td>2.31%                         </td> <td>0.01%           </td>\n",
       "        </tr>\n",
       "        <tr>\n",
       "            <td>Infecciones por VIH y SIDA                          </td> <td>2010</td> <td>435  </td> <td>0.51%                         </td> <td>0.00%           </td>\n",
       "        </tr>\n",
       "    </tbody>\n",
       "</table>"
      ],
      "text/plain": [
       "Causa                                                | Año  | Casos | Porcentaje por causa de muerte | Porcentaje total\n",
       "Enfermedades del sistema circulatorio                | 2010 | 27158 | 31.57%                         | 0.16%\n",
       "Tumores (neoplasias)                                 | 2010 | 24088 | 28.00%                         | 0.14%\n",
       "Enfermedades del sistema respiratorio                | 2010 | 9993  | 11.62%                         | 0.06%\n",
       "Causa Externa de mortalidad                          | 2010 | 8385  | 9.75%                          | 0.05%\n",
       "Enfermedades del sistema digestivo                   | 2010 | 7051  | 8.20%                          | 0.04%\n",
       "Enfermedades endocrinas, nutricionales y metabolicas | 2010 | 4821  | 5.60%                          | 0.03%\n",
       "Accidentes de tránsito                               | 2010 | 2097  | 2.44%                          | 0.01%\n",
       "Lesiones autoinfligidas intencionalmente             | 2010 | 1986  | 2.31%                          | 0.01%\n",
       "Infecciones por VIH y SIDA                           | 2010 | 435   | 0.51%                          | 0.00%"
      ]
     },
     "execution_count": 132,
     "metadata": {},
     "output_type": "execute_result"
    }
   ],
   "source": [
    "mortalidad_2010 = mortalidad_2010.with_columns(\n",
    "    \"Porcentaje total\", (mortalidad_2010.select(\"Casos\")[0] / total_2010)\n",
    ").set_format(4, PercentFormatter)\n",
    "mortalidad_2010.sort(\"Porcentaje total\", True)"
   ]
  },
  {
   "cell_type": "markdown",
   "metadata": {},
   "source": [
    "# 5. Grafico de barras con los porcentajes por causa de muertes"
   ]
  },
  {
   "cell_type": "code",
   "execution_count": 142,
   "metadata": {},
   "outputs": [
    {
     "data": {
      "image/png": "[encoded data removed]",
      "text/plain": [
       "<Figure size 720x324 with 1 Axes>"
      ]
     },
     "metadata": {},
     "output_type": "display_data"
    }
   ],
   "source": [
    "mortalidad_2010.select(\"Causa\", \"Porcentaje por causa de muerte\").sort(\"Porcentaje por causa de muerte\", True).barh(\"Causa\", \"Porcentaje por causa de muerte\", width = 10)"
   ]
  },
  {
   "cell_type": "markdown",
   "metadata": {},
   "source": [
    "El 70% de las muertes en Chile para el año 2010 (86.014) fueron ocasionadas por enfermedades del sistema circulatorio, tumores (neoplasias) y enfermedades del sistema respiratorio, siendo la de mayor incidencia las del sistema circulatorio con 31.5 % de las muertes.\n",
    "\n",
    "Por ello se recomienda trabajar más en medidas preventivas contra estas enfermedades,"
   ]
  },
  {
   "cell_type": "markdown",
   "metadata": {},
   "source": [
    "# 6. Porcentaje de muertes en relación a la población total de Chile para ese año."
   ]
  },
  {
   "cell_type": "code",
   "execution_count": 150,
   "metadata": {},
   "outputs": [
    {
     "name": "stdout",
     "output_type": "stream",
     "text": [
      "El porcentaje de muertes en relacion a la poblacion total en el 2010 es de: 0.50%\n"
     ]
    }
   ],
   "source": [
    "print(\"El porcentaje de muertes en relacion a la poblacion total en el 2010 es de: \" + \"{:.2%}\".format((muertes_total / total_2010)))"
   ]
  }
 ],
 "metadata": {
  "kernelspec": {
   "display_name": "Python 3",
   "language": "python",
   "name": "python3"
  },
  "language_info": {
   "codemirror_mode": {
    "name": "ipython",
    "version": 3
   },
   "file_extension": ".py",
   "mimetype": "text/x-python",
   "name": "python",
   "nbconvert_exporter": "python",
   "pygments_lexer": "ipython3",
   "version": "3.5.2"
  }
 },
 "nbformat": 4,
 "nbformat_minor": 4
}
