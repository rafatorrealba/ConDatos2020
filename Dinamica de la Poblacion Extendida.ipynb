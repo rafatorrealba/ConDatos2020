{
 "cells": [
  {
   "cell_type": "markdown",
   "metadata": {},
   "source": [
    "# Dinámica de la Población - ConDatos2020\n",
    "\n",
    "By Ubiot - 2020"
   ]
  },
  {
   "cell_type": "code",
   "execution_count": 60,
   "metadata": {
    "scrolled": true
   },
   "outputs": [
    {
     "data": {
      "text/html": [
       "<table border=\"1\" class=\"dataframe\">\n",
       "    <thead>\n",
       "        <tr>\n",
       "            <th>Region</th> <th>nombre_region</th> <th>provincia</th> <th>Provincia</th> <th>Comuna</th> <th>Sexo</th> <th>Edad</th> <th>a2002</th> <th>a2003</th> <th>a2004</th> <th>a2005</th> <th>a2006</th> <th>a2007</th> <th>a2008</th> <th>a2009</th> <th>a2010</th> <th>a2011</th> <th>a2012</th> <th>a2013</th> <th>a2014</th> <th>a2015</th> <th>a2016</th> <th>a2017</th> <th>a2018</th> <th>a2019</th> <th>a2020</th>\n",
       "        </tr>\n",
       "    </thead>\n",
       "    <tbody>\n",
       "        <tr>\n",
       "            <td>13    </td> <td>Región Metropolitana</td> <td>131      </td> <td>Santiago </td> <td>La Pintana</td> <td>1   </td> <td>20  </td> <td>1.937</td> <td>1.987</td> <td>2.005</td> <td>2.029</td> <td>2.059</td> <td>2.093</td> <td>2.1  </td> <td>2.121</td> <td>2.127</td> <td>2.114</td> <td>2.086</td> <td>2.049</td> <td>2.014</td> <td>1.977</td> <td>1.938</td> <td>1.895</td> <td>1.85 </td> <td>1.806</td> <td>1.763</td>\n",
       "        </tr>\n",
       "        <tr>\n",
       "            <td>13    </td> <td>Región Metropolitana</td> <td>131      </td> <td>Santiago </td> <td>La Pintana</td> <td>2   </td> <td>20  </td> <td>1.846</td> <td>1.885</td> <td>1.914</td> <td>1.943</td> <td>1.97 </td> <td>1.993</td> <td>2.011</td> <td>2.02 </td> <td>2.016</td> <td>1.996</td> <td>1.964</td> <td>1.924</td> <td>1.887</td> <td>1.85 </td> <td>1.813</td> <td>1.775</td> <td>1.739</td> <td>1.705</td> <td>1.674</td>\n",
       "        </tr>\n",
       "    </tbody>\n",
       "</table>"
      ],
      "text/plain": [
       "Region | nombre_region        | provincia | Provincia | Comuna     | Sexo | Edad | a2002 | a2003 | a2004 | a2005 | a2006 | a2007 | a2008 | a2009 | a2010 | a2011 | a2012 | a2013 | a2014 | a2015 | a2016 | a2017 | a2018 | a2019 | a2020\n",
       "13     | Región Metropolitana | 131       | Santiago  | La Pintana | 1    | 20   | 1.937 | 1.987 | 2.005 | 2.029 | 2.059 | 2.093 | 2.1   | 2.121 | 2.127 | 2.114 | 2.086 | 2.049 | 2.014 | 1.977 | 1.938 | 1.895 | 1.85  | 1.806 | 1.763\n",
       "13     | Región Metropolitana | 131       | Santiago  | La Pintana | 2    | 20   | 1.846 | 1.885 | 1.914 | 1.943 | 1.97  | 1.993 | 2.011 | 2.02  | 2.016 | 1.996 | 1.964 | 1.924 | 1.887 | 1.85  | 1.813 | 1.775 | 1.739 | 1.705 | 1.674"
      ]
     },
     "execution_count": 60,
     "metadata": {},
     "output_type": "execute_result"
    }
   ],
   "source": [
    "#Importar las librerías necesarias\n",
    "import csv\n",
    "import numpy as np\n",
    "from datascience import *\n",
    "\n",
    "import matplotlib\n",
    "%matplotlib inline\n",
    "import matplotlib.pyplot as plots\n",
    "plots.style.use('fivethirtyeight')\n",
    "\n",
    "#Procesamiento del archivo acerca de la población del 2002 al 2020\n",
    "poblacion = Table.read_table(\"~/Projects/ConDatos2020/data/poblacion_2002_2020.csv\", encoding='latin-1', delimiter=\";\")\n",
    "poblacion.relabel(\"Nombre_provincia\", \"Provincia\")\n",
    "poblacion.relabel(\"nombre_comuna\", \"Comuna\")\n",
    "poblacion.relabel(\"Sexo (1=hombres;2=mujeres)\", \"Sexo\")\n",
    "poblacion.relabel(\"edad\", \"Edad\")\n",
    "poblacion.where(\"Edad\", 20)"
   ]
  },
  {
   "cell_type": "markdown",
   "metadata": {},
   "source": [
    "# 20 años en el 2005 - 21 años en el 2006"
   ]
  },
  {
   "cell_type": "code",
   "execution_count": 61,
   "metadata": {},
   "outputs": [
    {
     "data": {
      "text/html": [
       "<table border=\"1\" class=\"dataframe\">\n",
       "    <thead>\n",
       "        <tr>\n",
       "            <th>Provincia</th> <th>Comuna</th> <th>Sexo</th> <th>20 años - 2005</th> <th>21 años - 2006</th> <th>Diferencia</th> <th>Porcentaje</th>\n",
       "        </tr>\n",
       "    </thead>\n",
       "    <tbody>\n",
       "        <tr>\n",
       "            <td>Santiago </td> <td>La Pintana</td> <td>1   </td> <td>2029          </td> <td>1999          </td> <td>-30       </td> <td>-1.48%    </td>\n",
       "        </tr>\n",
       "        <tr>\n",
       "            <td>Santiago </td> <td>La Pintana</td> <td>2   </td> <td>1943          </td> <td>1944          </td> <td>1         </td> <td>0.05%     </td>\n",
       "        </tr>\n",
       "    </tbody>\n",
       "</table>"
      ],
      "text/plain": [
       "Provincia | Comuna     | Sexo | 20 años - 2005 | 21 años - 2006 | Diferencia | Porcentaje\n",
       "Santiago  | La Pintana | 1    | 2029           | 1999           | -30        | -1.48%\n",
       "Santiago  | La Pintana | 2    | 1943           | 1944           | 1          | 0.05%"
      ]
     },
     "execution_count": 61,
     "metadata": {},
     "output_type": "execute_result"
    }
   ],
   "source": [
    "veinte = Table().with_columns(\n",
    "    \"Provincia\", poblacion.where(poblacion.column(\"Edad\"), 20).column(\"Provincia\"),\n",
    "    \"Comuna\", poblacion.where(poblacion.column(\"Edad\"), 20).column(\"Comuna\"),\n",
    "    \"Sexo\", poblacion.where(poblacion.column(\"Edad\"), 20).column(\"Sexo\"),\n",
    "    \"20 años - 2005\", (poblacion.where(poblacion.column(\"Edad\"), 20).column(\"a2005\") * 1000),\n",
    "    \"21 años - 2006\", (poblacion.where(poblacion.column(\"Edad\"), 21).column(\"a2006\") * 1000)\n",
    ")\n",
    "\n",
    "pob_20 = veinte.with_columns(\n",
    "    \"Diferencia\", (veinte.column(\"21 años - 2006\") - (veinte.column(\"20 años - 2005\"))),\n",
    "    \"Porcentaje\", ((veinte.column(\"21 años - 2006\") - (veinte.column(\"20 años - 2005\"))) / veinte.column(\"20 años - 2005\"))\n",
    ")\n",
    "pob_20.set_format(\"Porcentaje\", PercentFormatter)"
   ]
  },
  {
   "cell_type": "markdown",
   "metadata": {},
   "source": [
    "# 21 años en el 2006 - 22 años en el 2007"
   ]
  },
  {
   "cell_type": "code",
   "execution_count": 62,
   "metadata": {},
   "outputs": [
    {
     "data": {
      "text/html": [
       "<table border=\"1\" class=\"dataframe\">\n",
       "    <thead>\n",
       "        <tr>\n",
       "            <th>Provincia</th> <th>Comuna</th> <th>Sexo</th> <th>21 años - 2006</th> <th>22 años - 2007</th> <th>Diferencia</th> <th>Porcentaje</th>\n",
       "        </tr>\n",
       "    </thead>\n",
       "    <tbody>\n",
       "        <tr>\n",
       "            <td>Santiago </td> <td>La Pintana</td> <td>1   </td> <td>1999          </td> <td>2008          </td> <td>9         </td> <td>0.45%     </td>\n",
       "        </tr>\n",
       "        <tr>\n",
       "            <td>Santiago </td> <td>La Pintana</td> <td>2   </td> <td>1944          </td> <td>1766          </td> <td>-178      </td> <td>-9.16%    </td>\n",
       "        </tr>\n",
       "    </tbody>\n",
       "</table>"
      ],
      "text/plain": [
       "Provincia | Comuna     | Sexo | 21 años - 2006 | 22 años - 2007 | Diferencia | Porcentaje\n",
       "Santiago  | La Pintana | 1    | 1999           | 2008           | 9          | 0.45%\n",
       "Santiago  | La Pintana | 2    | 1944           | 1766           | -178       | -9.16%"
      ]
     },
     "execution_count": 62,
     "metadata": {},
     "output_type": "execute_result"
    }
   ],
   "source": [
    "veinte1 = Table().with_columns(\n",
    "    \"Provincia\", poblacion.where(poblacion.column(\"Edad\"), 21).column(\"Provincia\"),\n",
    "    \"Comuna\", poblacion.where(poblacion.column(\"Edad\"), 21).column(\"Comuna\"),\n",
    "    \"Sexo\", poblacion.where(poblacion.column(\"Edad\"), 21).column(\"Sexo\"),\n",
    "    \"21 años - 2006\", (poblacion.where(poblacion.column(\"Edad\"), 21).column(\"a2006\") * 1000),\n",
    "    \"22 años - 2007\", (poblacion.where(poblacion.column(\"Edad\"), 22).column(\"a2007\") * 1000)\n",
    ")\n",
    "\n",
    "pob_21 = veinte1.with_columns(\n",
    "    \"Diferencia\", (veinte1.column(\"22 años - 2007\") - (veinte1.column(\"21 años - 2006\"))),\n",
    "    \"Porcentaje\", ((veinte1.column(\"22 años - 2007\") - (veinte1.column(\"21 años - 2006\"))) / veinte1.column(\"21 años - 2006\"))\n",
    ")\n",
    "pob_21.set_format(\"Porcentaje\", PercentFormatter)"
   ]
  },
  {
   "cell_type": "markdown",
   "metadata": {},
   "source": [
    "# 22 años en el 2007 - 23 años en el 2008"
   ]
  },
  {
   "cell_type": "code",
   "execution_count": 63,
   "metadata": {},
   "outputs": [
    {
     "data": {
      "text/html": [
       "<table border=\"1\" class=\"dataframe\">\n",
       "    <thead>\n",
       "        <tr>\n",
       "            <th>Provincia</th> <th>Comuna</th> <th>Sexo</th> <th>22 años - 2007</th> <th>23 años - 2008</th> <th>Diferencia</th> <th>Porcentaje</th>\n",
       "        </tr>\n",
       "    </thead>\n",
       "    <tbody>\n",
       "        <tr>\n",
       "            <td>Santiago </td> <td>La Pintana</td> <td>1   </td> <td>2008          </td> <td>1960          </td> <td>-48       </td> <td>-2.39%    </td>\n",
       "        </tr>\n",
       "        <tr>\n",
       "            <td>Santiago </td> <td>La Pintana</td> <td>2   </td> <td>1766          </td> <td>1770          </td> <td>4         </td> <td>0.23%     </td>\n",
       "        </tr>\n",
       "    </tbody>\n",
       "</table>"
      ],
      "text/plain": [
       "Provincia | Comuna     | Sexo | 22 años - 2007 | 23 años - 2008 | Diferencia | Porcentaje\n",
       "Santiago  | La Pintana | 1    | 2008           | 1960           | -48        | -2.39%\n",
       "Santiago  | La Pintana | 2    | 1766           | 1770           | 4          | 0.23%"
      ]
     },
     "execution_count": 63,
     "metadata": {},
     "output_type": "execute_result"
    }
   ],
   "source": [
    "veinte2 = Table().with_columns(\n",
    "    \"Provincia\", poblacion.where(poblacion.column(\"Edad\"), 22).column(\"Provincia\"),\n",
    "    \"Comuna\", poblacion.where(poblacion.column(\"Edad\"), 22).column(\"Comuna\"),\n",
    "    \"Sexo\", poblacion.where(poblacion.column(\"Edad\"), 22).column(\"Sexo\"),\n",
    "    \"22 años - 2007\", (poblacion.where(poblacion.column(\"Edad\"), 22).column(\"a2007\") * 1000),\n",
    "    \"23 años - 2008\", (poblacion.where(poblacion.column(\"Edad\"), 23).column(\"a2008\") * 1000)\n",
    ")\n",
    "\n",
    "pob_22 = veinte2.with_columns(\n",
    "    \"Diferencia\", (veinte2.column(\"23 años - 2008\") - (veinte2.column(\"22 años - 2007\"))),\n",
    "    \"Porcentaje\", ((veinte2.column(\"23 años - 2008\") - (veinte2.column(\"22 años - 2007\"))) / veinte2.column(\"22 años - 2007\"))\n",
    ")\n",
    "pob_22.set_format(\"Porcentaje\", PercentFormatter)"
   ]
  },
  {
   "cell_type": "markdown",
   "metadata": {},
   "source": [
    "# 23 años en el 2008 - 24 años en el 2009"
   ]
  },
  {
   "cell_type": "code",
   "execution_count": 64,
   "metadata": {},
   "outputs": [
    {
     "data": {
      "text/html": [
       "<table border=\"1\" class=\"dataframe\">\n",
       "    <thead>\n",
       "        <tr>\n",
       "            <th>Provincia</th> <th>Comuna</th> <th>Sexo</th> <th>23 años - 2008</th> <th>24 años - 2009</th> <th>Diferencia</th> <th>Porcentaje</th>\n",
       "        </tr>\n",
       "    </thead>\n",
       "    <tbody>\n",
       "        <tr>\n",
       "            <td>Santiago </td> <td>La Pintana</td> <td>1   </td> <td>1960          </td> <td>1865          </td> <td>-95       </td> <td>-4.85%    </td>\n",
       "        </tr>\n",
       "        <tr>\n",
       "            <td>Santiago </td> <td>La Pintana</td> <td>2   </td> <td>1770          </td> <td>1747          </td> <td>-23       </td> <td>-1.30%    </td>\n",
       "        </tr>\n",
       "    </tbody>\n",
       "</table>"
      ],
      "text/plain": [
       "Provincia | Comuna     | Sexo | 23 años - 2008 | 24 años - 2009 | Diferencia | Porcentaje\n",
       "Santiago  | La Pintana | 1    | 1960           | 1865           | -95        | -4.85%\n",
       "Santiago  | La Pintana | 2    | 1770           | 1747           | -23        | -1.30%"
      ]
     },
     "execution_count": 64,
     "metadata": {},
     "output_type": "execute_result"
    }
   ],
   "source": [
    "veinte3 = Table().with_columns(\n",
    "    \"Provincia\", poblacion.where(poblacion.column(\"Edad\"), 23).column(\"Provincia\"),\n",
    "    \"Comuna\", poblacion.where(poblacion.column(\"Edad\"), 23).column(\"Comuna\"),\n",
    "    \"Sexo\", poblacion.where(poblacion.column(\"Edad\"), 23).column(\"Sexo\"),\n",
    "    \"23 años - 2008\", (poblacion.where(poblacion.column(\"Edad\"), 23).column(\"a2008\") * 1000),\n",
    "    \"24 años - 2009\", (poblacion.where(poblacion.column(\"Edad\"), 24).column(\"a2009\") * 1000)\n",
    ")\n",
    "\n",
    "pob_23 = veinte3.with_columns(\n",
    "    \"Diferencia\", (veinte3.column(\"24 años - 2009\") - (veinte3.column(\"23 años - 2008\"))),\n",
    "    \"Porcentaje\", ((veinte3.column(\"24 años - 2009\") - (veinte3.column(\"23 años - 2008\"))) / veinte3.column(\"23 años - 2008\"))\n",
    ")\n",
    "pob_23.set_format(\"Porcentaje\", PercentFormatter)"
   ]
  },
  {
   "cell_type": "markdown",
   "metadata": {},
   "source": [
    "# 24 años en el 2009 - 25 años en el 2010"
   ]
  },
  {
   "cell_type": "code",
   "execution_count": 65,
   "metadata": {},
   "outputs": [
    {
     "data": {
      "text/html": [
       "<table border=\"1\" class=\"dataframe\">\n",
       "    <thead>\n",
       "        <tr>\n",
       "            <th>Provincia</th> <th>Comuna</th> <th>Sexo</th> <th>24 años - 2009</th> <th>25 años - 2010</th> <th>Diferencia</th> <th>Porcentaje</th>\n",
       "        </tr>\n",
       "    </thead>\n",
       "    <tbody>\n",
       "        <tr>\n",
       "            <td>Santiago </td> <td>La Pintana</td> <td>1   </td> <td>1865          </td> <td>1772          </td> <td>-93       </td> <td>-4.99%    </td>\n",
       "        </tr>\n",
       "        <tr>\n",
       "            <td>Santiago </td> <td>La Pintana</td> <td>2   </td> <td>1747          </td> <td>1602          </td> <td>-145      </td> <td>-8.30%    </td>\n",
       "        </tr>\n",
       "    </tbody>\n",
       "</table>"
      ],
      "text/plain": [
       "Provincia | Comuna     | Sexo | 24 años - 2009 | 25 años - 2010 | Diferencia | Porcentaje\n",
       "Santiago  | La Pintana | 1    | 1865           | 1772           | -93        | -4.99%\n",
       "Santiago  | La Pintana | 2    | 1747           | 1602           | -145       | -8.30%"
      ]
     },
     "execution_count": 65,
     "metadata": {},
     "output_type": "execute_result"
    }
   ],
   "source": [
    "veinte4 = Table().with_columns(\n",
    "    \"Provincia\", poblacion.where(poblacion.column(\"Edad\"), 24).column(\"Provincia\"),\n",
    "    \"Comuna\", poblacion.where(poblacion.column(\"Edad\"), 24).column(\"Comuna\"),\n",
    "    \"Sexo\", poblacion.where(poblacion.column(\"Edad\"), 24).column(\"Sexo\"),\n",
    "    \"24 años - 2009\", (poblacion.where(poblacion.column(\"Edad\"), 24).column(\"a2009\") * 1000),\n",
    "    \"25 años - 2010\", (poblacion.where(poblacion.column(\"Edad\"), 25).column(\"a2010\") * 1000)\n",
    ")\n",
    "\n",
    "pob_24 = veinte4.with_columns(\n",
    "    \"Diferencia\", (veinte4.column(\"25 años - 2010\") - (veinte4.column(\"24 años - 2009\"))),\n",
    "    \"Porcentaje\", ((veinte4.column(\"25 años - 2010\") - (veinte4.column(\"24 años - 2009\"))) / veinte4.column(\"24 años - 2009\"))\n",
    ")\n",
    "pob_24.set_format(\"Porcentaje\", PercentFormatter)"
   ]
  },
  {
   "cell_type": "markdown",
   "metadata": {},
   "source": [
    "# 25 años en el 2010 - 26 años en el 2011"
   ]
  },
  {
   "cell_type": "code",
   "execution_count": 66,
   "metadata": {},
   "outputs": [
    {
     "data": {
      "text/html": [
       "<table border=\"1\" class=\"dataframe\">\n",
       "    <thead>\n",
       "        <tr>\n",
       "            <th>Provincia</th> <th>Comuna</th> <th>Sexo</th> <th>25 años - 2010</th> <th>26 años - 2011</th> <th>Diferencia</th> <th>Porcentaje</th>\n",
       "        </tr>\n",
       "    </thead>\n",
       "    <tbody>\n",
       "        <tr>\n",
       "            <td>Santiago </td> <td>La Pintana</td> <td>1   </td> <td>1772          </td> <td>1749          </td> <td>-23       </td> <td>-1.30%    </td>\n",
       "        </tr>\n",
       "        <tr>\n",
       "            <td>Santiago </td> <td>La Pintana</td> <td>2   </td> <td>1602          </td> <td>1744          </td> <td>142       </td> <td>8.86%     </td>\n",
       "        </tr>\n",
       "    </tbody>\n",
       "</table>"
      ],
      "text/plain": [
       "Provincia | Comuna     | Sexo | 25 años - 2010 | 26 años - 2011 | Diferencia | Porcentaje\n",
       "Santiago  | La Pintana | 1    | 1772           | 1749           | -23        | -1.30%\n",
       "Santiago  | La Pintana | 2    | 1602           | 1744           | 142        | 8.86%"
      ]
     },
     "execution_count": 66,
     "metadata": {},
     "output_type": "execute_result"
    }
   ],
   "source": [
    "veinte5 = Table().with_columns(\n",
    "    \"Provincia\", poblacion.where(poblacion.column(\"Edad\"), 25).column(\"Provincia\"),\n",
    "    \"Comuna\", poblacion.where(poblacion.column(\"Edad\"), 25).column(\"Comuna\"),\n",
    "    \"Sexo\", poblacion.where(poblacion.column(\"Edad\"), 25).column(\"Sexo\"),\n",
    "    \"25 años - 2010\", (poblacion.where(poblacion.column(\"Edad\"), 25).column(\"a2010\") * 1000),\n",
    "    \"26 años - 2011\", (poblacion.where(poblacion.column(\"Edad\"), 26).column(\"a2011\") * 1000)\n",
    ")\n",
    "\n",
    "pob_25 = veinte5.with_columns(\n",
    "    \"Diferencia\", (veinte5.column(\"26 años - 2011\") - (veinte5.column(\"25 años - 2010\"))),\n",
    "    \"Porcentaje\", ((veinte5.column(\"26 años - 2011\") - (veinte5.column(\"25 años - 2010\"))) / veinte5.column(\"25 años - 2010\"))\n",
    ")\n",
    "pob_25.set_format(\"Porcentaje\", PercentFormatter)"
   ]
  },
  {
   "cell_type": "markdown",
   "metadata": {},
   "source": [
    "# 26 años en el 2011 - 27 años en el 2012"
   ]
  },
  {
   "cell_type": "code",
   "execution_count": 67,
   "metadata": {},
   "outputs": [
    {
     "data": {
      "text/html": [
       "<table border=\"1\" class=\"dataframe\">\n",
       "    <thead>\n",
       "        <tr>\n",
       "            <th>Provincia</th> <th>Comuna</th> <th>Sexo</th> <th>26 años - 2011</th> <th>27 años - 2012</th> <th>Diferencia</th> <th>Porcentaje</th>\n",
       "        </tr>\n",
       "    </thead>\n",
       "    <tbody>\n",
       "        <tr>\n",
       "            <td>Santiago </td> <td>La Pintana</td> <td>1   </td> <td>1749          </td> <td>1855          </td> <td>106       </td> <td>6.06%     </td>\n",
       "        </tr>\n",
       "        <tr>\n",
       "            <td>Santiago </td> <td>La Pintana</td> <td>2   </td> <td>1744          </td> <td>1721          </td> <td>-23       </td> <td>-1.32%    </td>\n",
       "        </tr>\n",
       "    </tbody>\n",
       "</table>"
      ],
      "text/plain": [
       "Provincia | Comuna     | Sexo | 26 años - 2011 | 27 años - 2012 | Diferencia | Porcentaje\n",
       "Santiago  | La Pintana | 1    | 1749           | 1855           | 106        | 6.06%\n",
       "Santiago  | La Pintana | 2    | 1744           | 1721           | -23        | -1.32%"
      ]
     },
     "execution_count": 67,
     "metadata": {},
     "output_type": "execute_result"
    }
   ],
   "source": [
    "veinte6 = Table().with_columns(\n",
    "    \"Provincia\", poblacion.where(poblacion.column(\"Edad\"), 26).column(\"Provincia\"),\n",
    "    \"Comuna\", poblacion.where(poblacion.column(\"Edad\"), 26).column(\"Comuna\"),\n",
    "    \"Sexo\", poblacion.where(poblacion.column(\"Edad\"), 26).column(\"Sexo\"),\n",
    "    \"26 años - 2011\", (poblacion.where(poblacion.column(\"Edad\"), 26).column(\"a2011\") * 1000),\n",
    "    \"27 años - 2012\", (poblacion.where(poblacion.column(\"Edad\"), 27).column(\"a2012\") * 1000)\n",
    ")\n",
    "\n",
    "pob_26 = veinte6.with_columns(\n",
    "    \"Diferencia\", (veinte6.column(\"27 años - 2012\") - (veinte6.column(\"26 años - 2011\"))),\n",
    "    \"Porcentaje\", ((veinte6.column(\"27 años - 2012\") - (veinte6.column(\"26 años - 2011\"))) / veinte6.column(\"26 años - 2011\"))\n",
    ")\n",
    "pob_26.set_format(\"Porcentaje\", PercentFormatter)"
   ]
  },
  {
   "cell_type": "markdown",
   "metadata": {},
   "source": [
    "# 27 años en el 2012 - 28 años en el 2013"
   ]
  },
  {
   "cell_type": "code",
   "execution_count": 68,
   "metadata": {},
   "outputs": [
    {
     "data": {
      "text/html": [
       "<table border=\"1\" class=\"dataframe\">\n",
       "    <thead>\n",
       "        <tr>\n",
       "            <th>Provincia</th> <th>Comuna</th> <th>Sexo</th> <th>27 años - 2012</th> <th>28 años - 2013</th> <th>Diferencia</th> <th>Porcentaje</th>\n",
       "        </tr>\n",
       "    </thead>\n",
       "    <tbody>\n",
       "        <tr>\n",
       "            <td>Santiago </td> <td>La Pintana</td> <td>1   </td> <td>1855          </td> <td>1868          </td> <td>13        </td> <td>0.70%     </td>\n",
       "        </tr>\n",
       "        <tr>\n",
       "            <td>Santiago </td> <td>La Pintana</td> <td>2   </td> <td>1721          </td> <td>1758          </td> <td>37        </td> <td>2.15%     </td>\n",
       "        </tr>\n",
       "    </tbody>\n",
       "</table>"
      ],
      "text/plain": [
       "Provincia | Comuna     | Sexo | 27 años - 2012 | 28 años - 2013 | Diferencia | Porcentaje\n",
       "Santiago  | La Pintana | 1    | 1855           | 1868           | 13         | 0.70%\n",
       "Santiago  | La Pintana | 2    | 1721           | 1758           | 37         | 2.15%"
      ]
     },
     "execution_count": 68,
     "metadata": {},
     "output_type": "execute_result"
    }
   ],
   "source": [
    "veinte7 = Table().with_columns(\n",
    "    \"Provincia\", poblacion.where(poblacion.column(\"Edad\"), 27).column(\"Provincia\"),\n",
    "    \"Comuna\", poblacion.where(poblacion.column(\"Edad\"), 27).column(\"Comuna\"),\n",
    "    \"Sexo\", poblacion.where(poblacion.column(\"Edad\"), 27).column(\"Sexo\"),\n",
    "    \"27 años - 2012\", (poblacion.where(poblacion.column(\"Edad\"), 27).column(\"a2012\") * 1000),\n",
    "    \"28 años - 2013\", (poblacion.where(poblacion.column(\"Edad\"), 28).column(\"a2013\") * 1000)\n",
    ")\n",
    "\n",
    "pob_27 = veinte7.with_columns(\n",
    "    \"Diferencia\", (veinte7.column(\"28 años - 2013\") - (veinte7.column(\"27 años - 2012\"))),\n",
    "    \"Porcentaje\", ((veinte7.column(\"28 años - 2013\") - (veinte7.column(\"27 años - 2012\"))) / veinte7.column(\"27 años - 2012\"))\n",
    ")\n",
    "pob_27.set_format(\"Porcentaje\", PercentFormatter)"
   ]
  },
  {
   "cell_type": "markdown",
   "metadata": {},
   "source": [
    "# 28 años en el 2013 - 29 años en el 2014"
   ]
  },
  {
   "cell_type": "code",
   "execution_count": 69,
   "metadata": {},
   "outputs": [
    {
     "data": {
      "text/html": [
       "<table border=\"1\" class=\"dataframe\">\n",
       "    <thead>\n",
       "        <tr>\n",
       "            <th>Provincia</th> <th>Comuna</th> <th>Sexo</th> <th>28 años - 2013</th> <th>29 años - 2014</th> <th>Diferencia</th> <th>Porcentaje</th>\n",
       "        </tr>\n",
       "    </thead>\n",
       "    <tbody>\n",
       "        <tr>\n",
       "            <td>Santiago </td> <td>La Pintana</td> <td>1   </td> <td>1868          </td> <td>1671          </td> <td>-197      </td> <td>-10.55%   </td>\n",
       "        </tr>\n",
       "        <tr>\n",
       "            <td>Santiago </td> <td>La Pintana</td> <td>2   </td> <td>1758          </td> <td>1638          </td> <td>-120      </td> <td>-6.83%    </td>\n",
       "        </tr>\n",
       "    </tbody>\n",
       "</table>"
      ],
      "text/plain": [
       "Provincia | Comuna     | Sexo | 28 años - 2013 | 29 años - 2014 | Diferencia | Porcentaje\n",
       "Santiago  | La Pintana | 1    | 1868           | 1671           | -197       | -10.55%\n",
       "Santiago  | La Pintana | 2    | 1758           | 1638           | -120       | -6.83%"
      ]
     },
     "execution_count": 69,
     "metadata": {},
     "output_type": "execute_result"
    }
   ],
   "source": [
    "veinte8 = Table().with_columns(\n",
    "    \"Provincia\", poblacion.where(poblacion.column(\"Edad\"), 28).column(\"Provincia\"),\n",
    "    \"Comuna\", poblacion.where(poblacion.column(\"Edad\"), 28).column(\"Comuna\"),\n",
    "    \"Sexo\", poblacion.where(poblacion.column(\"Edad\"), 28).column(\"Sexo\"),\n",
    "    \"28 años - 2013\", (poblacion.where(poblacion.column(\"Edad\"), 28).column(\"a2013\") * 1000),\n",
    "    \"29 años - 2014\", (poblacion.where(poblacion.column(\"Edad\"), 29).column(\"a2014\") * 1000)\n",
    ")\n",
    "\n",
    "pob_28 = veinte8.with_columns(\n",
    "    \"Diferencia\", (veinte8.column(\"29 años - 2014\") - (veinte8.column(\"28 años - 2013\"))),\n",
    "    \"Porcentaje\", ((veinte8.column(\"29 años - 2014\") - (veinte8.column(\"28 años - 2013\"))) / veinte8.column(\"28 años - 2013\"))\n",
    ")\n",
    "pob_28.set_format(\"Porcentaje\", PercentFormatter)"
   ]
  },
  {
   "cell_type": "markdown",
   "metadata": {},
   "source": [
    "# 29 años en el 2014 - 30 años en el 2015"
   ]
  },
  {
   "cell_type": "code",
   "execution_count": 70,
   "metadata": {},
   "outputs": [
    {
     "data": {
      "text/html": [
       "<table border=\"1\" class=\"dataframe\">\n",
       "    <thead>\n",
       "        <tr>\n",
       "            <th>Provincia</th> <th>Comuna</th> <th>Sexo</th> <th>29 años - 2014</th> <th>30 años - 2015</th> <th>Diferencia</th> <th>Porcentaje</th>\n",
       "        </tr>\n",
       "    </thead>\n",
       "    <tbody>\n",
       "        <tr>\n",
       "            <td>Santiago </td> <td>La Pintana</td> <td>1   </td> <td>1671          </td> <td>1654          </td> <td>-17       </td> <td>-1.02%    </td>\n",
       "        </tr>\n",
       "        <tr>\n",
       "            <td>Santiago </td> <td>La Pintana</td> <td>2   </td> <td>1638          </td> <td>1589          </td> <td>-49       </td> <td>-2.99%    </td>\n",
       "        </tr>\n",
       "    </tbody>\n",
       "</table>"
      ],
      "text/plain": [
       "Provincia | Comuna     | Sexo | 29 años - 2014 | 30 años - 2015 | Diferencia | Porcentaje\n",
       "Santiago  | La Pintana | 1    | 1671           | 1654           | -17        | -1.02%\n",
       "Santiago  | La Pintana | 2    | 1638           | 1589           | -49        | -2.99%"
      ]
     },
     "execution_count": 70,
     "metadata": {},
     "output_type": "execute_result"
    }
   ],
   "source": [
    "veinte9 = Table().with_columns(\n",
    "    \"Provincia\", poblacion.where(poblacion.column(\"Edad\"), 29).column(\"Provincia\"),\n",
    "    \"Comuna\", poblacion.where(poblacion.column(\"Edad\"), 29).column(\"Comuna\"),\n",
    "    \"Sexo\", poblacion.where(poblacion.column(\"Edad\"), 29).column(\"Sexo\"),\n",
    "    \"29 años - 2014\", (poblacion.where(poblacion.column(\"Edad\"), 29).column(\"a2014\") * 1000),\n",
    "    \"30 años - 2015\", (poblacion.where(poblacion.column(\"Edad\"), 30).column(\"a2015\") * 1000)\n",
    ")\n",
    "\n",
    "pob_29 = veinte9.with_columns(\n",
    "    \"Diferencia\", (veinte9.column(\"30 años - 2015\") - (veinte9.column(\"29 años - 2014\"))),\n",
    "    \"Porcentaje\", ((veinte9.column(\"30 años - 2015\") - (veinte9.column(\"29 años - 2014\"))) / veinte9.column(\"29 años - 2014\"))\n",
    ")\n",
    "pob_29.set_format(\"Porcentaje\", PercentFormatter)"
   ]
  },
  {
   "cell_type": "markdown",
   "metadata": {},
   "source": [
    "# Gráfico"
   ]
  },
  {
   "cell_type": "code",
   "execution_count": 71,
   "metadata": {},
   "outputs": [
    {
     "data": {
      "text/html": [
       "<table border=\"1\" class=\"dataframe\">\n",
       "    <thead>\n",
       "        <tr>\n",
       "            <th>Sexo</th> <th>2005</th> <th>2006</th> <th>2007</th> <th>2008</th> <th>2009</th> <th>2010</th> <th>2011</th> <th>2012</th> <th>2013</th> <th>2014</th>\n",
       "        </tr>\n",
       "    </thead>\n",
       "    <tbody>\n",
       "        <tr>\n",
       "            <td>Hombres</td> <td>2029</td> <td>1999</td> <td>2008</td> <td>1960</td> <td>1865</td> <td>1772</td> <td>1749</td> <td>1855</td> <td>1868</td> <td>1671</td>\n",
       "        </tr>\n",
       "        <tr>\n",
       "            <td>Mujeres</td> <td>1943</td> <td>1944</td> <td>1766</td> <td>1770</td> <td>1747</td> <td>1602</td> <td>1744</td> <td>1721</td> <td>1758</td> <td>1638</td>\n",
       "        </tr>\n",
       "    </tbody>\n",
       "</table>"
      ],
      "text/plain": [
       "Sexo    | 2005 | 2006 | 2007 | 2008 | 2009 | 2010 | 2011 | 2012 | 2013 | 2014\n",
       "Hombres | 2029 | 1999 | 2008 | 1960 | 1865 | 1772 | 1749 | 1855 | 1868 | 1671\n",
       "Mujeres | 1943 | 1944 | 1766 | 1770 | 1747 | 1602 | 1744 | 1721 | 1758 | 1638"
      ]
     },
     "execution_count": 71,
     "metadata": {},
     "output_type": "execute_result"
    }
   ],
   "source": [
    "gen = make_array('Hombres', 'Mujeres')\n",
    "\n",
    "#Se une cada tabla\n",
    "total = Table().with_columns(\n",
    "    \"Sexo\", gen,\n",
    "    \"2005\", pob_20.column(3),\n",
    "    \"2006\", pob_21.column(3),\n",
    "    \"2007\", pob_22.column(3),\n",
    "    \"2008\", pob_23.column(3),\n",
    "    \"2009\", pob_24.column(3),\n",
    "    \"2010\", pob_25.column(3),\n",
    "    \"2011\", pob_26.column(3),\n",
    "    \"2012\", pob_27.column(3),\n",
    "    \"2013\", pob_28.column(3),\n",
    "    \"2014\", pob_29.column(3),\n",
    ")\n",
    "total"
   ]
  },
  {
   "cell_type": "code",
   "execution_count": 91,
   "metadata": {},
   "outputs": [
    {
     "data": {
      "text/html": [
       "<table border=\"1\" class=\"dataframe\">\n",
       "    <thead>\n",
       "        <tr>\n",
       "            <th>Fecha</th> <th>Hombres</th> <th>Mujeres</th>\n",
       "        </tr>\n",
       "    </thead>\n",
       "    <tbody>\n",
       "        <tr>\n",
       "            <td>2005 </td> <td>2,029.00</td> <td>1,943.00</td>\n",
       "        </tr>\n",
       "        <tr>\n",
       "            <td>2006 </td> <td>1,999.00</td> <td>1,944.00</td>\n",
       "        </tr>\n",
       "        <tr>\n",
       "            <td>2007 </td> <td>2,008.00</td> <td>1,766.00</td>\n",
       "        </tr>\n",
       "        <tr>\n",
       "            <td>2008 </td> <td>1,960.00</td> <td>1,770.00</td>\n",
       "        </tr>\n",
       "        <tr>\n",
       "            <td>2009 </td> <td>1,865.00</td> <td>1,747.00</td>\n",
       "        </tr>\n",
       "        <tr>\n",
       "            <td>2010 </td> <td>1,772.00</td> <td>1,602.00</td>\n",
       "        </tr>\n",
       "        <tr>\n",
       "            <td>2011 </td> <td>1,749.00</td> <td>1,744.00</td>\n",
       "        </tr>\n",
       "        <tr>\n",
       "            <td>2012 </td> <td>1,855.00</td> <td>1,721.00</td>\n",
       "        </tr>\n",
       "        <tr>\n",
       "            <td>2013 </td> <td>1,868.00</td> <td>1,758.00</td>\n",
       "        </tr>\n",
       "        <tr>\n",
       "            <td>2014 </td> <td>1,671.00</td> <td>1,638.00</td>\n",
       "        </tr>\n",
       "    </tbody>\n",
       "</table>"
      ],
      "text/plain": [
       "<IPython.core.display.HTML object>"
      ]
     },
     "metadata": {},
     "output_type": "display_data"
    },
    {
     "data": {
      "image/png": "[encoded data removed]",
      "text/plain": [
       "<Figure size 864x288 with 1 Axes>"
      ]
     },
     "metadata": {},
     "output_type": "display_data"
    }
   ],
   "source": [
    "hombres = make_array(total.rows[0])\n",
    "hombres = hombres[hombres != \"Hombres\"]\n",
    "\n",
    "mujeres = make_array(total.rows[1])\n",
    "mujeres = mujeres[mujeres != \"Mujeres\"]\n",
    "\n",
    "k = Table().with_columns(\n",
    "    \"Fecha\", np.repeat(make_array(np.arange(2005, 2015)), repeats= 1),\n",
    "    \"Hombres\", hombres,\n",
    "    \"Mujeres\", mujeres\n",
    "    \n",
    ")\n",
    "k.set_format(1, NumberFormatter).set_format(2, NumberFormatter).show()\n",
    "k.plot(\"Fecha\", width= 12)"
   ]
  }
 ],
 "metadata": {
  "kernelspec": {
   "display_name": "Python 3",
   "language": "python",
   "name": "python3"
  },
  "language_info": {
   "codemirror_mode": {
    "name": "ipython",
    "version": 3
   },
   "file_extension": ".py",
   "mimetype": "text/x-python",
   "name": "python",
   "nbconvert_exporter": "python",
   "pygments_lexer": "ipython3",
   "version": "3.5.2"
  }
 },
 "nbformat": 4,
 "nbformat_minor": 4
}
